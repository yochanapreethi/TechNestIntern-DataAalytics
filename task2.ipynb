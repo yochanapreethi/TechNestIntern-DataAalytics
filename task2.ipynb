{
 "cells": [
  {
   "cell_type": "code",
   "execution_count": 2,
   "id": "19ac5b22",
   "metadata": {},
   "outputs": [],
   "source": [
    "import pandas as pd\n",
    "\n",
    "# Load the dataset\n",
    "df = pd.read_csv(\"Retail Sales Analysis_utf.csv\")\n",
    "\n",
    "# Parse dates properly with dayfirst format\n",
    "df['sale_date'] = pd.to_datetime(df['sale_date'], dayfirst=True)\n",
    "df['sale_time'] = pd.to_datetime(df['sale_time'], format='%H:%M:%S').dt.time\n",
    "\n",
    "# Create shift column (in case needed later)\n",
    "def determine_shift(t):\n",
    "    hour = t.hour\n",
    "    if hour <= 12:\n",
    "        return 'Morning'\n",
    "    elif 12 < hour <= 17:\n",
    "        return 'Afternoon'\n",
    "    else:\n",
    "        return 'Evening'\n",
    "df['shift'] = df['sale_time'].apply(determine_shift)\n"
   ]
  },
  {
   "cell_type": "code",
   "execution_count": 3,
   "id": "b490dbed",
   "metadata": {},
   "outputs": [
    {
     "data": {
      "text/html": [
       "<div>\n",
       "<style scoped>\n",
       "    .dataframe tbody tr th:only-of-type {\n",
       "        vertical-align: middle;\n",
       "    }\n",
       "\n",
       "    .dataframe tbody tr th {\n",
       "        vertical-align: top;\n",
       "    }\n",
       "\n",
       "    .dataframe thead th {\n",
       "        text-align: right;\n",
       "    }\n",
       "</style>\n",
       "<table border=\"1\" class=\"dataframe\">\n",
       "  <thead>\n",
       "    <tr style=\"text-align: right;\">\n",
       "      <th></th>\n",
       "      <th>customer_id</th>\n",
       "      <th>num_orders</th>\n",
       "      <th>avg_quantity</th>\n",
       "      <th>total_sales</th>\n",
       "      <th>avg_order_value</th>\n",
       "    </tr>\n",
       "  </thead>\n",
       "  <tbody>\n",
       "    <tr>\n",
       "      <th>0</th>\n",
       "      <td>1</td>\n",
       "      <td>76</td>\n",
       "      <td>2.447368</td>\n",
       "      <td>30750.0</td>\n",
       "      <td>404.605263</td>\n",
       "    </tr>\n",
       "    <tr>\n",
       "      <th>1</th>\n",
       "      <td>2</td>\n",
       "      <td>69</td>\n",
       "      <td>2.231884</td>\n",
       "      <td>25295.0</td>\n",
       "      <td>366.594203</td>\n",
       "    </tr>\n",
       "    <tr>\n",
       "      <th>2</th>\n",
       "      <td>3</td>\n",
       "      <td>76</td>\n",
       "      <td>2.644737</td>\n",
       "      <td>38440.0</td>\n",
       "      <td>505.789474</td>\n",
       "    </tr>\n",
       "    <tr>\n",
       "      <th>3</th>\n",
       "      <td>4</td>\n",
       "      <td>73</td>\n",
       "      <td>2.246575</td>\n",
       "      <td>23580.0</td>\n",
       "      <td>323.013699</td>\n",
       "    </tr>\n",
       "    <tr>\n",
       "      <th>4</th>\n",
       "      <td>5</td>\n",
       "      <td>63</td>\n",
       "      <td>2.523810</td>\n",
       "      <td>30405.0</td>\n",
       "      <td>482.619048</td>\n",
       "    </tr>\n",
       "  </tbody>\n",
       "</table>\n",
       "</div>"
      ],
      "text/plain": [
       "   customer_id  num_orders  avg_quantity  total_sales  avg_order_value\n",
       "0            1          76      2.447368      30750.0       404.605263\n",
       "1            2          69      2.231884      25295.0       366.594203\n",
       "2            3          76      2.644737      38440.0       505.789474\n",
       "3            4          73      2.246575      23580.0       323.013699\n",
       "4            5          63      2.523810      30405.0       482.619048"
      ]
     },
     "execution_count": 3,
     "metadata": {},
     "output_type": "execute_result"
    }
   ],
   "source": [
    "# Step 1: Feature engineering per customer\n",
    "customer_df = df.groupby('customer_id').agg({\n",
    "    'transactions_id': 'count',\n",
    "    'quantity': 'mean',\n",
    "    'total_sale': ['sum', 'mean']\n",
    "}).reset_index()\n",
    "\n",
    "# Rename columns\n",
    "customer_df.columns = ['customer_id', 'num_orders', 'avg_quantity', 'total_sales', 'avg_order_value']\n",
    "customer_df.head()\n"
   ]
  },
  {
   "cell_type": "code",
   "execution_count": 7,
   "id": "88f273c5",
   "metadata": {},
   "outputs": [],
   "source": [
    "from sklearn.preprocessing import StandardScaler\n"
   ]
  },
  {
   "cell_type": "code",
   "execution_count": 8,
   "id": "0a4b4e1a",
   "metadata": {},
   "outputs": [],
   "source": [
    "#Step 2: Normalize the features\n",
    "from sklearn.preprocessing import StandardScaler\n",
    "\n",
    "X = customer_df[['num_orders', 'avg_quantity', 'total_sales', 'avg_order_value']]\n",
    "scaler = StandardScaler()\n",
    "X_scaled = scaler.fit_transform(X)"
   ]
  },
  {
   "cell_type": "code",
   "execution_count": 9,
   "id": "5e1319d6",
   "metadata": {},
   "outputs": [],
   "source": [
    "#Step 3: Apply k-means clustering\n",
    "from sklearn.cluster import KMeans\n",
    "\n",
    "kmeans = KMeans(n_clusters=3, random_state=42)\n",
    "customer_df['cluster'] = kmeans.fit_predict(X_scaled)\n"
   ]
  },
  {
   "cell_type": "code",
   "execution_count": 10,
   "id": "7d142737",
   "metadata": {},
   "outputs": [
    {
     "data": {
      "image/png": "[encoded data removed]",
      "text/plain": [
       "<Figure size 800x500 with 1 Axes>"
      ]
     },
     "metadata": {},
     "output_type": "display_data"
    }
   ],
   "source": [
    "#Step 4: Visualize clusters using PCA\n",
    "from sklearn.decomposition import PCA\n",
    "import matplotlib.pyplot as plt\n",
    "import seaborn as sns\n",
    "\n",
    "pca = PCA(n_components=2)\n",
    "X_pca = pca.fit_transform(X_scaled)\n",
    "\n",
    "plt.figure(figsize=(8,5))\n",
    "sns.scatterplot(x=X_pca[:, 0], y=X_pca[:, 1], hue=customer_df['cluster'], palette='Set2')\n",
    "plt.title(\"Customer Clusters (PCA Projection)\")\n",
    "plt.xlabel(\"PCA 1\")\n",
    "plt.ylabel(\"PCA 2\")\n",
    "plt.legend(title='Cluster')\n",
    "plt.show()"
   ]
  },
  {
   "cell_type": "code",
   "execution_count": 11,
   "id": "19e45ac7",
   "metadata": {},
   "outputs": [
    {
     "data": {
      "text/html": [
       "<div>\n",
       "<style scoped>\n",
       "    .dataframe tbody tr th:only-of-type {\n",
       "        vertical-align: middle;\n",
       "    }\n",
       "\n",
       "    .dataframe tbody tr th {\n",
       "        vertical-align: top;\n",
       "    }\n",
       "\n",
       "    .dataframe thead th {\n",
       "        text-align: right;\n",
       "    }\n",
       "</style>\n",
       "<table border=\"1\" class=\"dataframe\">\n",
       "  <thead>\n",
       "    <tr style=\"text-align: right;\">\n",
       "      <th></th>\n",
       "      <th>num_orders</th>\n",
       "      <th>avg_quantity</th>\n",
       "      <th>total_sales</th>\n",
       "      <th>avg_order_value</th>\n",
       "    </tr>\n",
       "    <tr>\n",
       "      <th>cluster</th>\n",
       "      <th></th>\n",
       "      <th></th>\n",
       "      <th></th>\n",
       "      <th></th>\n",
       "    </tr>\n",
       "  </thead>\n",
       "  <tbody>\n",
       "    <tr>\n",
       "      <th>0</th>\n",
       "      <td>10.818182</td>\n",
       "      <td>2.230354</td>\n",
       "      <td>3817.121212</td>\n",
       "      <td>346.606657</td>\n",
       "    </tr>\n",
       "    <tr>\n",
       "      <th>1</th>\n",
       "      <td>11.059524</td>\n",
       "      <td>2.814366</td>\n",
       "      <td>6087.142857</td>\n",
       "      <td>574.335565</td>\n",
       "    </tr>\n",
       "    <tr>\n",
       "      <th>2</th>\n",
       "      <td>71.400000</td>\n",
       "      <td>2.418875</td>\n",
       "      <td>29694.000000</td>\n",
       "      <td>416.524337</td>\n",
       "    </tr>\n",
       "  </tbody>\n",
       "</table>\n",
       "</div>"
      ],
      "text/plain": [
       "         num_orders  avg_quantity   total_sales  avg_order_value\n",
       "cluster                                                         \n",
       "0         10.818182      2.230354   3817.121212       346.606657\n",
       "1         11.059524      2.814366   6087.142857       574.335565\n",
       "2         71.400000      2.418875  29694.000000       416.524337"
      ]
     },
     "execution_count": 11,
     "metadata": {},
     "output_type": "execute_result"
    }
   ],
   "source": [
    "#Step 5: Analyze cluster behaviour\n",
    "customer_df.groupby('cluster')[['num_orders', 'avg_quantity', 'total_sales', 'avg_order_value']].mean()"
   ]
  }
 ],
 "metadata": {
  "kernelspec": {
   "display_name": "Python 3",
   "language": "python",
   "name": "python3"
  },
  "language_info": {
   "codemirror_mode": {
    "name": "ipython",
    "version": 3
   },
   "file_extension": ".py",
   "mimetype": "text/x-python",
   "name": "python",
   "nbconvert_exporter": "python",
   "pygments_lexer": "ipython3",
   "version": "3.13.3"
  }
 },
 "nbformat": 4,
 "nbformat_minor": 5
}
