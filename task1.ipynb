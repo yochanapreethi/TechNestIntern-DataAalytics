{
 "cells": [
  {
   "cell_type": "code",
   "execution_count": null,
   "id": "639640ef",
   "metadata": {},
   "outputs": [],
   "source": [
    "import pandas as pd\n",
    "\n",
    "# Load the dataset\n",
    "df = pd.read_csv(\"Retail Sales Analysis_utf.csv\")\n",
    "\n",
    "# Parse dates properly with dayfirst format\n",
    "df['sale_date'] = pd.to_datetime(df['sale_date'], dayfirst=True)\n",
    "df['sale_time'] = pd.to_datetime(df['sale_time'], format='%H:%M:%S').dt.time\n"
   ]
  },
  {
   "cell_type": "markdown",
   "id": "617b0c22",
   "metadata": {},
   "source": [
    "### Q1. Retrieve all sales made on '2022-11-05'"
   ]
  },
  {
   "cell_type": "code",
   "execution_count": null,
   "id": "4ff4503e",
   "metadata": {},
   "outputs": [
    {
     "data": {
      "text/html": [
       "<div>\n",
       "<style scoped>\n",
       "    .dataframe tbody tr th:only-of-type {\n",
       "        vertical-align: middle;\n",
       "    }\n",
       "\n",
       "    .dataframe tbody tr th {\n",
       "        vertical-align: top;\n",
       "    }\n",
       "\n",
       "    .dataframe thead th {\n",
       "        text-align: right;\n",
       "    }\n",
       "</style>\n",
       "<table border=\"1\" class=\"dataframe\">\n",
       "  <thead>\n",
       "    <tr style=\"text-align: right;\">\n",
       "      <th></th>\n",
       "      <th>transactions_id</th>\n",
       "      <th>sale_date</th>\n",
       "      <th>sale_time</th>\n",
       "      <th>customer_id</th>\n",
       "      <th>gender</th>\n",
       "      <th>age</th>\n",
       "      <th>category</th>\n",
       "      <th>quantity</th>\n",
       "      <th>price_per_unit</th>\n",
       "      <th>cogs</th>\n",
       "      <th>total_sale</th>\n",
       "    </tr>\n",
       "  </thead>\n",
       "  <tbody>\n",
       "    <tr>\n",
       "      <th>0</th>\n",
       "      <td>180</td>\n",
       "      <td>2022-11-05</td>\n",
       "      <td>10:47:00</td>\n",
       "      <td>117</td>\n",
       "      <td>Male</td>\n",
       "      <td>41.0</td>\n",
       "      <td>Clothing</td>\n",
       "      <td>3.0</td>\n",
       "      <td>300.0</td>\n",
       "      <td>129.00</td>\n",
       "      <td>900.0</td>\n",
       "    </tr>\n",
       "    <tr>\n",
       "      <th>190</th>\n",
       "      <td>240</td>\n",
       "      <td>2022-11-05</td>\n",
       "      <td>11:49:00</td>\n",
       "      <td>95</td>\n",
       "      <td>Female</td>\n",
       "      <td>23.0</td>\n",
       "      <td>Beauty</td>\n",
       "      <td>1.0</td>\n",
       "      <td>300.0</td>\n",
       "      <td>123.00</td>\n",
       "      <td>300.0</td>\n",
       "    </tr>\n",
       "    <tr>\n",
       "      <th>259</th>\n",
       "      <td>1256</td>\n",
       "      <td>2022-11-05</td>\n",
       "      <td>09:58:00</td>\n",
       "      <td>29</td>\n",
       "      <td>Male</td>\n",
       "      <td>23.0</td>\n",
       "      <td>Clothing</td>\n",
       "      <td>2.0</td>\n",
       "      <td>500.0</td>\n",
       "      <td>190.00</td>\n",
       "      <td>1000.0</td>\n",
       "    </tr>\n",
       "    <tr>\n",
       "      <th>895</th>\n",
       "      <td>1587</td>\n",
       "      <td>2022-11-05</td>\n",
       "      <td>20:06:00</td>\n",
       "      <td>140</td>\n",
       "      <td>Female</td>\n",
       "      <td>40.0</td>\n",
       "      <td>Beauty</td>\n",
       "      <td>4.0</td>\n",
       "      <td>300.0</td>\n",
       "      <td>105.00</td>\n",
       "      <td>1200.0</td>\n",
       "    </tr>\n",
       "    <tr>\n",
       "      <th>929</th>\n",
       "      <td>1819</td>\n",
       "      <td>2022-11-05</td>\n",
       "      <td>20:44:00</td>\n",
       "      <td>83</td>\n",
       "      <td>Female</td>\n",
       "      <td>35.0</td>\n",
       "      <td>Beauty</td>\n",
       "      <td>2.0</td>\n",
       "      <td>50.0</td>\n",
       "      <td>13.50</td>\n",
       "      <td>100.0</td>\n",
       "    </tr>\n",
       "    <tr>\n",
       "      <th>1575</th>\n",
       "      <td>943</td>\n",
       "      <td>2022-11-05</td>\n",
       "      <td>19:29:00</td>\n",
       "      <td>90</td>\n",
       "      <td>Female</td>\n",
       "      <td>57.0</td>\n",
       "      <td>Clothing</td>\n",
       "      <td>4.0</td>\n",
       "      <td>300.0</td>\n",
       "      <td>318.00</td>\n",
       "      <td>1200.0</td>\n",
       "    </tr>\n",
       "    <tr>\n",
       "      <th>1647</th>\n",
       "      <td>1896</td>\n",
       "      <td>2022-11-05</td>\n",
       "      <td>20:19:00</td>\n",
       "      <td>87</td>\n",
       "      <td>Female</td>\n",
       "      <td>30.0</td>\n",
       "      <td>Electronics</td>\n",
       "      <td>2.0</td>\n",
       "      <td>25.0</td>\n",
       "      <td>30.75</td>\n",
       "      <td>50.0</td>\n",
       "    </tr>\n",
       "    <tr>\n",
       "      <th>1752</th>\n",
       "      <td>1137</td>\n",
       "      <td>2022-11-05</td>\n",
       "      <td>22:34:00</td>\n",
       "      <td>104</td>\n",
       "      <td>Male</td>\n",
       "      <td>46.0</td>\n",
       "      <td>Beauty</td>\n",
       "      <td>2.0</td>\n",
       "      <td>500.0</td>\n",
       "      <td>145.00</td>\n",
       "      <td>1000.0</td>\n",
       "    </tr>\n",
       "    <tr>\n",
       "      <th>1794</th>\n",
       "      <td>856</td>\n",
       "      <td>2022-11-05</td>\n",
       "      <td>17:43:00</td>\n",
       "      <td>102</td>\n",
       "      <td>Male</td>\n",
       "      <td>54.0</td>\n",
       "      <td>Electronics</td>\n",
       "      <td>4.0</td>\n",
       "      <td>30.0</td>\n",
       "      <td>9.30</td>\n",
       "      <td>120.0</td>\n",
       "    </tr>\n",
       "    <tr>\n",
       "      <th>1879</th>\n",
       "      <td>214</td>\n",
       "      <td>2022-11-05</td>\n",
       "      <td>16:31:00</td>\n",
       "      <td>53</td>\n",
       "      <td>Male</td>\n",
       "      <td>20.0</td>\n",
       "      <td>Beauty</td>\n",
       "      <td>2.0</td>\n",
       "      <td>30.0</td>\n",
       "      <td>8.10</td>\n",
       "      <td>60.0</td>\n",
       "    </tr>\n",
       "    <tr>\n",
       "      <th>1888</th>\n",
       "      <td>1265</td>\n",
       "      <td>2022-11-05</td>\n",
       "      <td>14:35:00</td>\n",
       "      <td>86</td>\n",
       "      <td>Male</td>\n",
       "      <td>55.0</td>\n",
       "      <td>Clothing</td>\n",
       "      <td>3.0</td>\n",
       "      <td>300.0</td>\n",
       "      <td>111.00</td>\n",
       "      <td>900.0</td>\n",
       "    </tr>\n",
       "  </tbody>\n",
       "</table>\n",
       "</div>"
      ],
      "text/plain": [
       "      transactions_id  sale_date sale_time  customer_id  gender   age  \\\n",
       "0                 180 2022-11-05  10:47:00          117    Male  41.0   \n",
       "190               240 2022-11-05  11:49:00           95  Female  23.0   \n",
       "259              1256 2022-11-05  09:58:00           29    Male  23.0   \n",
       "895              1587 2022-11-05  20:06:00          140  Female  40.0   \n",
       "929              1819 2022-11-05  20:44:00           83  Female  35.0   \n",
       "1575              943 2022-11-05  19:29:00           90  Female  57.0   \n",
       "1647             1896 2022-11-05  20:19:00           87  Female  30.0   \n",
       "1752             1137 2022-11-05  22:34:00          104    Male  46.0   \n",
       "1794              856 2022-11-05  17:43:00          102    Male  54.0   \n",
       "1879              214 2022-11-05  16:31:00           53    Male  20.0   \n",
       "1888             1265 2022-11-05  14:35:00           86    Male  55.0   \n",
       "\n",
       "         category  quantity  price_per_unit    cogs  total_sale  \n",
       "0        Clothing       3.0           300.0  129.00       900.0  \n",
       "190        Beauty       1.0           300.0  123.00       300.0  \n",
       "259      Clothing       2.0           500.0  190.00      1000.0  \n",
       "895        Beauty       4.0           300.0  105.00      1200.0  \n",
       "929        Beauty       2.0            50.0   13.50       100.0  \n",
       "1575     Clothing       4.0           300.0  318.00      1200.0  \n",
       "1647  Electronics       2.0            25.0   30.75        50.0  \n",
       "1752       Beauty       2.0           500.0  145.00      1000.0  \n",
       "1794  Electronics       4.0            30.0    9.30       120.0  \n",
       "1879       Beauty       2.0            30.0    8.10        60.0  \n",
       "1888     Clothing       3.0           300.0  111.00       900.0  "
      ]
     },
     "execution_count": 7,
     "metadata": {},
     "output_type": "execute_result"
    }
   ],
   "source": [
    "\n",
    "df[df['sale_date'] == '2022-11-05']\n"
   ]
  },
  {
   "cell_type": "markdown",
   "id": "d612b051",
   "metadata": {},
   "source": [
    "### Q2. Retrieve all transactions where the category is 'Clothing' and the quantity sold is more than 10 in Nov 2022"
   ]
  },
  {
   "cell_type": "code",
   "execution_count": null,
   "id": "fbd872fe",
   "metadata": {},
   "outputs": [
    {
     "data": {
      "text/html": [
       "<div>\n",
       "<style scoped>\n",
       "    .dataframe tbody tr th:only-of-type {\n",
       "        vertical-align: middle;\n",
       "    }\n",
       "\n",
       "    .dataframe tbody tr th {\n",
       "        vertical-align: top;\n",
       "    }\n",
       "\n",
       "    .dataframe thead th {\n",
       "        text-align: right;\n",
       "    }\n",
       "</style>\n",
       "<table border=\"1\" class=\"dataframe\">\n",
       "  <thead>\n",
       "    <tr style=\"text-align: right;\">\n",
       "      <th></th>\n",
       "      <th>transactions_id</th>\n",
       "      <th>sale_date</th>\n",
       "      <th>sale_time</th>\n",
       "      <th>customer_id</th>\n",
       "      <th>gender</th>\n",
       "      <th>age</th>\n",
       "      <th>category</th>\n",
       "      <th>quantity</th>\n",
       "      <th>price_per_unit</th>\n",
       "      <th>cogs</th>\n",
       "      <th>total_sale</th>\n",
       "    </tr>\n",
       "  </thead>\n",
       "  <tbody>\n",
       "  </tbody>\n",
       "</table>\n",
       "</div>"
      ],
      "text/plain": [
       "Empty DataFrame\n",
       "Columns: [transactions_id, sale_date, sale_time, customer_id, gender, age, category, quantity, price_per_unit, cogs, total_sale]\n",
       "Index: []"
      ]
     },
     "execution_count": 8,
     "metadata": {},
     "output_type": "execute_result"
    }
   ],
   "source": [
    "\n",
    "df[\n",
    "    (df['category'] == 'Clothing') &\n",
    "    (df['quantity'] > 10) &\n",
    "    (df['sale_date'].dt.month == 11) &\n",
    "    (df['sale_date'].dt.year == 2022)\n",
    "]"
   ]
  },
  {
   "cell_type": "markdown",
   "id": "1ef588e6",
   "metadata": {},
   "source": [
    "### Q3. Calculate the total sales (total_sale) for each category"
   ]
  },
  {
   "cell_type": "code",
   "execution_count": null,
   "id": "2f66a602",
   "metadata": {},
   "outputs": [
    {
     "data": {
      "text/plain": [
       "category\n",
       "Beauty         286840.0\n",
       "Clothing       311070.0\n",
       "Electronics    313810.0\n",
       "Name: total_sale, dtype: float64"
      ]
     },
     "execution_count": 9,
     "metadata": {},
     "output_type": "execute_result"
    }
   ],
   "source": [
    "\n",
    "df.groupby('category')['total_sale'].sum()"
   ]
  },
  {
   "cell_type": "markdown",
   "id": "df254b16",
   "metadata": {},
   "source": [
    "### Q4. Find the average age of customers who purchased items from the 'Beauty' category"
   ]
  },
  {
   "cell_type": "code",
   "execution_count": null,
   "id": "b4936e52",
   "metadata": {},
   "outputs": [
    {
     "data": {
      "text/plain": [
       "np.float64(40.40619902120718)"
      ]
     },
     "execution_count": 12,
     "metadata": {},
     "output_type": "execute_result"
    }
   ],
   "source": [
    "\n",
    "df[df['category'] == 'Beauty']['age'].mean()"
   ]
  },
  {
   "cell_type": "markdown",
   "id": "b6ecda17",
   "metadata": {},
   "source": [
    "### Q5. Retrieve all transactions where total_sale is greater than 1000"
   ]
  },
  {
   "cell_type": "code",
   "execution_count": null,
   "id": "e2e3688a",
   "metadata": {},
   "outputs": [
    {
     "data": {
      "text/html": [
       "<div>\n",
       "<style scoped>\n",
       "    .dataframe tbody tr th:only-of-type {\n",
       "        vertical-align: middle;\n",
       "    }\n",
       "\n",
       "    .dataframe tbody tr th {\n",
       "        vertical-align: top;\n",
       "    }\n",
       "\n",
       "    .dataframe thead th {\n",
       "        text-align: right;\n",
       "    }\n",
       "</style>\n",
       "<table border=\"1\" class=\"dataframe\">\n",
       "  <thead>\n",
       "    <tr style=\"text-align: right;\">\n",
       "      <th></th>\n",
       "      <th>transactions_id</th>\n",
       "      <th>sale_date</th>\n",
       "      <th>sale_time</th>\n",
       "      <th>customer_id</th>\n",
       "      <th>gender</th>\n",
       "      <th>age</th>\n",
       "      <th>category</th>\n",
       "      <th>quantity</th>\n",
       "      <th>price_per_unit</th>\n",
       "      <th>cogs</th>\n",
       "      <th>total_sale</th>\n",
       "    </tr>\n",
       "  </thead>\n",
       "  <tbody>\n",
       "    <tr>\n",
       "      <th>1</th>\n",
       "      <td>522</td>\n",
       "      <td>2022-07-09</td>\n",
       "      <td>11:00:00</td>\n",
       "      <td>52</td>\n",
       "      <td>Male</td>\n",
       "      <td>46.0</td>\n",
       "      <td>Beauty</td>\n",
       "      <td>3.0</td>\n",
       "      <td>500.0</td>\n",
       "      <td>145.0</td>\n",
       "      <td>1500.0</td>\n",
       "    </tr>\n",
       "    <tr>\n",
       "      <th>2</th>\n",
       "      <td>559</td>\n",
       "      <td>2022-12-12</td>\n",
       "      <td>10:48:00</td>\n",
       "      <td>5</td>\n",
       "      <td>Female</td>\n",
       "      <td>40.0</td>\n",
       "      <td>Clothing</td>\n",
       "      <td>4.0</td>\n",
       "      <td>300.0</td>\n",
       "      <td>84.0</td>\n",
       "      <td>1200.0</td>\n",
       "    </tr>\n",
       "    <tr>\n",
       "      <th>4</th>\n",
       "      <td>1522</td>\n",
       "      <td>2022-11-14</td>\n",
       "      <td>08:35:00</td>\n",
       "      <td>48</td>\n",
       "      <td>Male</td>\n",
       "      <td>46.0</td>\n",
       "      <td>Beauty</td>\n",
       "      <td>3.0</td>\n",
       "      <td>500.0</td>\n",
       "      <td>235.0</td>\n",
       "      <td>1500.0</td>\n",
       "    </tr>\n",
       "    <tr>\n",
       "      <th>5</th>\n",
       "      <td>1559</td>\n",
       "      <td>2022-08-20</td>\n",
       "      <td>07:40:00</td>\n",
       "      <td>49</td>\n",
       "      <td>Female</td>\n",
       "      <td>40.0</td>\n",
       "      <td>Clothing</td>\n",
       "      <td>4.0</td>\n",
       "      <td>300.0</td>\n",
       "      <td>144.0</td>\n",
       "      <td>1200.0</td>\n",
       "    </tr>\n",
       "    <tr>\n",
       "      <th>8</th>\n",
       "      <td>421</td>\n",
       "      <td>2022-04-08</td>\n",
       "      <td>08:43:00</td>\n",
       "      <td>66</td>\n",
       "      <td>Female</td>\n",
       "      <td>37.0</td>\n",
       "      <td>Clothing</td>\n",
       "      <td>3.0</td>\n",
       "      <td>500.0</td>\n",
       "      <td>235.0</td>\n",
       "      <td>1500.0</td>\n",
       "    </tr>\n",
       "    <tr>\n",
       "      <th>...</th>\n",
       "      <td>...</td>\n",
       "      <td>...</td>\n",
       "      <td>...</td>\n",
       "      <td>...</td>\n",
       "      <td>...</td>\n",
       "      <td>...</td>\n",
       "      <td>...</td>\n",
       "      <td>...</td>\n",
       "      <td>...</td>\n",
       "      <td>...</td>\n",
       "      <td>...</td>\n",
       "    </tr>\n",
       "    <tr>\n",
       "      <th>1989</th>\n",
       "      <td>908</td>\n",
       "      <td>2022-10-30</td>\n",
       "      <td>14:47:00</td>\n",
       "      <td>64</td>\n",
       "      <td>Male</td>\n",
       "      <td>46.0</td>\n",
       "      <td>Beauty</td>\n",
       "      <td>4.0</td>\n",
       "      <td>300.0</td>\n",
       "      <td>81.0</td>\n",
       "      <td>1200.0</td>\n",
       "    </tr>\n",
       "    <tr>\n",
       "      <th>1992</th>\n",
       "      <td>1805</td>\n",
       "      <td>2023-10-10</td>\n",
       "      <td>13:35:00</td>\n",
       "      <td>79</td>\n",
       "      <td>Female</td>\n",
       "      <td>30.0</td>\n",
       "      <td>Beauty</td>\n",
       "      <td>3.0</td>\n",
       "      <td>500.0</td>\n",
       "      <td>225.0</td>\n",
       "      <td>1500.0</td>\n",
       "    </tr>\n",
       "    <tr>\n",
       "      <th>1993</th>\n",
       "      <td>1908</td>\n",
       "      <td>2023-12-17</td>\n",
       "      <td>12:34:00</td>\n",
       "      <td>93</td>\n",
       "      <td>Male</td>\n",
       "      <td>46.0</td>\n",
       "      <td>Beauty</td>\n",
       "      <td>4.0</td>\n",
       "      <td>300.0</td>\n",
       "      <td>87.0</td>\n",
       "      <td>1200.0</td>\n",
       "    </tr>\n",
       "    <tr>\n",
       "      <th>1996</th>\n",
       "      <td>211</td>\n",
       "      <td>2022-09-12</td>\n",
       "      <td>14:02:00</td>\n",
       "      <td>54</td>\n",
       "      <td>Male</td>\n",
       "      <td>42.0</td>\n",
       "      <td>Beauty</td>\n",
       "      <td>3.0</td>\n",
       "      <td>500.0</td>\n",
       "      <td>235.0</td>\n",
       "      <td>1500.0</td>\n",
       "    </tr>\n",
       "    <tr>\n",
       "      <th>1998</th>\n",
       "      <td>1211</td>\n",
       "      <td>2023-11-22</td>\n",
       "      <td>14:59:00</td>\n",
       "      <td>82</td>\n",
       "      <td>Male</td>\n",
       "      <td>42.0</td>\n",
       "      <td>Beauty</td>\n",
       "      <td>3.0</td>\n",
       "      <td>500.0</td>\n",
       "      <td>235.0</td>\n",
       "      <td>1500.0</td>\n",
       "    </tr>\n",
       "  </tbody>\n",
       "</table>\n",
       "<p>306 rows × 11 columns</p>\n",
       "</div>"
      ],
      "text/plain": [
       "      transactions_id  sale_date sale_time  customer_id  gender   age  \\\n",
       "1                 522 2022-07-09  11:00:00           52    Male  46.0   \n",
       "2                 559 2022-12-12  10:48:00            5  Female  40.0   \n",
       "4                1522 2022-11-14  08:35:00           48    Male  46.0   \n",
       "5                1559 2022-08-20  07:40:00           49  Female  40.0   \n",
       "8                 421 2022-04-08  08:43:00           66  Female  37.0   \n",
       "...               ...        ...       ...          ...     ...   ...   \n",
       "1989              908 2022-10-30  14:47:00           64    Male  46.0   \n",
       "1992             1805 2023-10-10  13:35:00           79  Female  30.0   \n",
       "1993             1908 2023-12-17  12:34:00           93    Male  46.0   \n",
       "1996              211 2022-09-12  14:02:00           54    Male  42.0   \n",
       "1998             1211 2023-11-22  14:59:00           82    Male  42.0   \n",
       "\n",
       "      category  quantity  price_per_unit   cogs  total_sale  \n",
       "1       Beauty       3.0           500.0  145.0      1500.0  \n",
       "2     Clothing       4.0           300.0   84.0      1200.0  \n",
       "4       Beauty       3.0           500.0  235.0      1500.0  \n",
       "5     Clothing       4.0           300.0  144.0      1200.0  \n",
       "8     Clothing       3.0           500.0  235.0      1500.0  \n",
       "...        ...       ...             ...    ...         ...  \n",
       "1989    Beauty       4.0           300.0   81.0      1200.0  \n",
       "1992    Beauty       3.0           500.0  225.0      1500.0  \n",
       "1993    Beauty       4.0           300.0   87.0      1200.0  \n",
       "1996    Beauty       3.0           500.0  235.0      1500.0  \n",
       "1998    Beauty       3.0           500.0  235.0      1500.0  \n",
       "\n",
       "[306 rows x 11 columns]"
      ]
     },
     "execution_count": 13,
     "metadata": {},
     "output_type": "execute_result"
    }
   ],
   "source": [
    "\n",
    "df[df['total_sale'] > 1000]"
   ]
  },
  {
   "cell_type": "markdown",
   "id": "0d2beea6",
   "metadata": {},
   "source": [
    "### Q6. Find the total number of transactions (transaction_id) made by each gender in each category"
   ]
  },
  {
   "cell_type": "code",
   "execution_count": null,
   "id": "0c57a41f",
   "metadata": {},
   "outputs": [
    {
     "data": {
      "text/plain": [
       "gender  category   \n",
       "Female  Beauty         332\n",
       "        Clothing       348\n",
       "        Electronics    340\n",
       "Male    Beauty         282\n",
       "        Clothing       354\n",
       "        Electronics    344\n",
       "Name: transactions_id, dtype: int64"
      ]
     },
     "execution_count": 14,
     "metadata": {},
     "output_type": "execute_result"
    }
   ],
   "source": [
    "\n",
    "df.groupby(['gender', 'category'])['transactions_id'].count()"
   ]
  },
  {
   "cell_type": "markdown",
   "id": "bb2f8999",
   "metadata": {},
   "source": [
    "### Q7. Calculate the average sale for each month and find the best-selling month in each year"
   ]
  },
  {
   "cell_type": "code",
   "execution_count": null,
   "id": "5a991e47",
   "metadata": {},
   "outputs": [
    {
     "data": {
      "text/plain": [
       "(    year  month  avg_monthly_sale\n",
       " 0   2022      1        397.105263\n",
       " 1   2022      2        366.136364\n",
       " 2   2022      3        521.382979\n",
       " 3   2022      4        486.525424\n",
       " 4   2022      5        480.384615\n",
       " 5   2022      6        481.395349\n",
       " 6   2022      7        541.341463\n",
       " 7   2022      8        385.363636\n",
       " 8   2022      9        478.837209\n",
       " 9   2022     10        467.363014\n",
       " 10  2022     11        472.020548\n",
       " 11  2022     12        464.203822\n",
       " 12  2023      1        396.500000\n",
       " 13  2023      2        535.531915\n",
       " 14  2023      3        394.807692\n",
       " 15  2023      4        466.489362\n",
       " 16  2023      5        450.166667\n",
       " 17  2023      6        438.482143\n",
       " 18  2023      7        427.678571\n",
       " 19  2023      8        495.964912\n",
       " 20  2023      9        462.739726\n",
       " 21  2023     10        399.172414\n",
       " 22  2023     11        453.452381\n",
       " 23  2023     12        490.390071,\n",
       "     year  month  avg_monthly_sale\n",
       " 6   2022      7        541.341463\n",
       " 13  2023      2        535.531915)"
      ]
     },
     "execution_count": 15,
     "metadata": {},
     "output_type": "execute_result"
    }
   ],
   "source": [
    "\n",
    "df['year'] = df['sale_date'].dt.year\n",
    "df['month'] = df['sale_date'].dt.month\n",
    "\n",
    "monthly_avg = df.groupby(['year', 'month'])['total_sale'].mean().reset_index(name='avg_monthly_sale')\n",
    "best_months = monthly_avg.loc[monthly_avg.groupby('year')['avg_monthly_sale'].idxmax()]\n",
    "monthly_avg, best_months"
   ]
  },
  {
   "cell_type": "markdown",
   "id": "6f7913b3",
   "metadata": {},
   "source": [
    "### Q8. Find the top 5 customers based on the highest total sales"
   ]
  },
  {
   "cell_type": "code",
   "execution_count": null,
   "id": "76364e63",
   "metadata": {},
   "outputs": [
    {
     "data": {
      "text/plain": [
       "customer_id\n",
       "3    38440.0\n",
       "1    30750.0\n",
       "5    30405.0\n",
       "2    25295.0\n",
       "4    23580.0\n",
       "Name: total_sale, dtype: float64"
      ]
     },
     "execution_count": 16,
     "metadata": {},
     "output_type": "execute_result"
    }
   ],
   "source": [
    "\n",
    "df.groupby('customer_id')['total_sale'].sum().nlargest(5)"
   ]
  },
  {
   "cell_type": "markdown",
   "id": "17e039c9",
   "metadata": {},
   "source": [
    "### Q9. Find the number of unique customers who purchased items from each category"
   ]
  },
  {
   "cell_type": "code",
   "execution_count": null,
   "id": "0c8f16ce",
   "metadata": {},
   "outputs": [
    {
     "data": {
      "text/plain": [
       "category\n",
       "Beauty         141\n",
       "Clothing       149\n",
       "Electronics    144\n",
       "Name: customer_id, dtype: int64"
      ]
     },
     "execution_count": 17,
     "metadata": {},
     "output_type": "execute_result"
    }
   ],
   "source": [
    "\n",
    "df.groupby('category')['customer_id'].nunique()"
   ]
  },
  {
   "cell_type": "markdown",
   "id": "1a26fc39",
   "metadata": {},
   "source": [
    "### Q10. Create each shift and count the number of orders \n",
    "### (Morning <=12, Afternoon Between 12 & 17, Evening >17)"
   ]
  },
  {
   "cell_type": "code",
   "execution_count": null,
   "id": "3076c884",
   "metadata": {},
   "outputs": [
    {
     "data": {
      "text/plain": [
       "shift\n",
       "Afternoon     348\n",
       "Evening      1062\n",
       "Morning       590\n",
       "Name: transactions_id, dtype: int64"
      ]
     },
     "execution_count": 18,
     "metadata": {},
     "output_type": "execute_result"
    }
   ],
   "source": [
    "\n",
    "def determine_shift(t):\n",
    "    h = t.hour\n",
    "    if h <= 12:\n",
    "        return 'Morning'\n",
    "    elif 12 < h <= 17:\n",
    "        return 'Afternoon'\n",
    "    else:\n",
    "        return 'Evening'\n",
    "\n",
    "df['shift'] = df['sale_time'].apply(determine_shift)\n",
    "df.groupby('shift')['transactions_id'].count()"
   ]
  },
  {
   "cell_type": "markdown",
   "id": "48496ceb",
   "metadata": {},
   "source": [
    "### What is the average order value (AOV)?"
   ]
  },
  {
   "cell_type": "code",
   "execution_count": 3,
   "id": "30af484b",
   "metadata": {},
   "outputs": [
    {
     "name": "stdout",
     "output_type": "stream",
     "text": [
      "Average Order Value (AOV): 456.54\n"
     ]
    }
   ],
   "source": [
    "aov = df['total_sale'].mean()\n",
    "print(\"Average Order Value (AOV):\", round(aov, 2))"
   ]
  },
  {
   "cell_type": "markdown",
   "id": "9826673b",
   "metadata": {},
   "source": [
    "### Total revenue by gender"
   ]
  },
  {
   "cell_type": "code",
   "execution_count": 4,
   "id": "79dab17c",
   "metadata": {},
   "outputs": [
    {
     "name": "stdout",
     "output_type": "stream",
     "text": [
      "Revenue by Gender:\n",
      " gender\n",
      "Female    465400.0\n",
      "Male      446320.0\n",
      "Name: total_sale, dtype: float64\n"
     ]
    }
   ],
   "source": [
    "print(\"Revenue by Gender:\\n\", df.groupby('gender')['total_sale'].sum())"
   ]
  },
  {
   "cell_type": "markdown",
   "id": "84972904",
   "metadata": {},
   "source": [
    "### Most purchased category by each gender"
   ]
  },
  {
   "cell_type": "code",
   "execution_count": 5,
   "id": "629831ac",
   "metadata": {},
   "outputs": [
    {
     "name": "stdout",
     "output_type": "stream",
     "text": [
      "Most purchased category by gender:\n",
      " gender\n",
      "Female    Clothing\n",
      "Male      Clothing\n",
      "dtype: object\n"
     ]
    }
   ],
   "source": [
    "most_purchased = df.groupby(['gender', 'category'])['transactions_id'].count().unstack().idxmax(axis=1)\n",
    "print(\"Most purchased category by gender:\\n\", most_purchased)"
   ]
  },
  {
   "cell_type": "markdown",
   "id": "d0032f01",
   "metadata": {},
   "source": [
    "### Sales distribution by age group"
   ]
  },
  {
   "cell_type": "code",
   "execution_count": 6,
   "id": "8685349f",
   "metadata": {},
   "outputs": [
    {
     "name": "stdout",
     "output_type": "stream",
     "text": [
      "Sales by Age Group:\n",
      " age_group\n",
      "18-25    168960.0\n",
      "26-35    196870.0\n",
      "36-45    183665.0\n",
      "46-55    200305.0\n",
      "56-65    158430.0\n",
      "65+           0.0\n",
      "Name: total_sale, dtype: float64\n"
     ]
    },
    {
     "name": "stderr",
     "output_type": "stream",
     "text": [
      "C:\\Users\\YOCHANA\\AppData\\Local\\Temp\\ipykernel_9136\\2374276327.py:4: FutureWarning: The default of observed=False is deprecated and will be changed to True in a future version of pandas. Pass observed=False to retain current behavior or observed=True to adopt the future default and silence this warning.\n",
      "  print(\"Sales by Age Group:\\n\", df.groupby('age_group')['total_sale'].sum())\n"
     ]
    }
   ],
   "source": [
    "bins = [17, 25, 35, 45, 55, 65, 100]\n",
    "labels = ['18-25', '26-35', '36-45', '46-55', '56-65', '65+']\n",
    "df['age_group'] = pd.cut(df['age'], bins=bins, labels=labels)\n",
    "print(\"Sales by Age Group:\\n\", df.groupby('age_group')['total_sale'].sum())"
   ]
  },
  {
   "cell_type": "markdown",
   "id": "214142c1",
   "metadata": {},
   "source": [
    "### Total quantity sold per category"
   ]
  },
  {
   "cell_type": "code",
   "execution_count": 7,
   "id": "757e1b87",
   "metadata": {},
   "outputs": [
    {
     "name": "stdout",
     "output_type": "stream",
     "text": [
      "Total quantity sold per category:\n",
      " category\n",
      "Beauty         1535.0\n",
      "Clothing       1785.0\n",
      "Electronics    1698.0\n",
      "Name: quantity, dtype: float64\n"
     ]
    }
   ],
   "source": [
    "print(\"Total quantity sold per category:\\n\", df.groupby('category')['quantity'].sum())"
   ]
  },
  {
   "cell_type": "markdown",
   "id": "3545a975",
   "metadata": {},
   "source": [
    "###  Average quantity per order"
   ]
  },
  {
   "cell_type": "code",
   "execution_count": 8,
   "id": "4b73df7d",
   "metadata": {},
   "outputs": [
    {
     "name": "stdout",
     "output_type": "stream",
     "text": [
      "Average Quantity per Order: 2.51\n"
     ]
    }
   ],
   "source": [
    "print(\"Average Quantity per Order:\", round(df['quantity'].mean(), 2))"
   ]
  },
  {
   "cell_type": "markdown",
   "id": "51ec5f7f",
   "metadata": {},
   "source": [
    "### Day of week with highest number of sales"
   ]
  },
  {
   "cell_type": "code",
   "execution_count": 9,
   "id": "f9c81dc3",
   "metadata": {},
   "outputs": [
    {
     "name": "stdout",
     "output_type": "stream",
     "text": [
      "Sales count by Day of Week:\n",
      " day_name\n",
      "Sunday       312\n",
      "Saturday     309\n",
      "Friday       290\n",
      "Thursday     288\n",
      "Monday       279\n",
      "Wednesday    275\n",
      "Tuesday      247\n",
      "Name: count, dtype: int64\n"
     ]
    }
   ],
   "source": [
    "df['day_name'] = df['sale_date'].dt.day_name()\n",
    "print(\"Sales count by Day of Week:\\n\", df['day_name'].value_counts())"
   ]
  },
  {
   "cell_type": "markdown",
   "id": "6aa05893",
   "metadata": {},
   "source": [
    "### Total Sales by Category (Bar Chart)"
   ]
  },
  {
   "cell_type": "code",
   "execution_count": 11,
   "id": "dbe1ef47",
   "metadata": {},
   "outputs": [
    {
     "name": "stderr",
     "output_type": "stream",
     "text": [
      "C:\\Users\\YOCHANA\\AppData\\Local\\Temp\\ipykernel_9136\\2927967788.py:7: FutureWarning: \n",
      "\n",
      "Passing `palette` without assigning `hue` is deprecated and will be removed in v0.14.0. Assign the `x` variable to `hue` and set `legend=False` for the same effect.\n",
      "\n",
      "  sns.barplot(\n"
     ]
    },
    {
     "data": {
      "image/png": "[encoded data removed]",
      "text/plain": [
       "<Figure size 800x500 with 1 Axes>"
      ]
     },
     "metadata": {},
     "output_type": "display_data"
    }
   ],
   "source": [
    "import seaborn as sns\n",
    "import matplotlib.pyplot as plt\n",
    "\n",
    "category_sales = df.groupby('category')['total_sale'].sum().sort_values(ascending=False)\n",
    "\n",
    "plt.figure(figsize=(8,5))\n",
    "sns.barplot(\n",
    "    x=category_sales.index,\n",
    "    y=category_sales.values,\n",
    "    palette=sns.color_palette(\"Blues_d\", n_colors=len(category_sales)),\n",
    "    legend=False\n",
    ")\n",
    "plt.title(\"Total Sales by Category\")\n",
    "plt.ylabel(\"Total Sales\")\n",
    "plt.xlabel(\"Category\")\n",
    "plt.xticks(rotation=45)\n",
    "plt.tight_layout()\n",
    "plt.show()"
   ]
  },
  {
   "cell_type": "markdown",
   "id": "76993fe0",
   "metadata": {},
   "source": [
    "### Monthly Sales Trend (Line Chart)"
   ]
  },
  {
   "cell_type": "code",
   "execution_count": 13,
   "id": "b6114dec",
   "metadata": {},
   "outputs": [
    {
     "data": {
      "image/png": "[encoded data removed]",
      "text/plain": [
       "<Figure size 1000x500 with 1 Axes>"
      ]
     },
     "metadata": {},
     "output_type": "display_data"
    }
   ],
   "source": [
    "df['year_month'] = df['sale_date'].dt.to_period('M')\n",
    "monthly_sales = df.groupby('year_month')['total_sale'].sum().reset_index()\n",
    "\n",
    "monthly_sales['year_month'] = monthly_sales['year_month'].astype(str)\n",
    "\n",
    "import seaborn as sns\n",
    "import matplotlib.pyplot as plt\n",
    "\n",
    "plt.figure(figsize=(10, 5))\n",
    "sns.lineplot(data=monthly_sales, x='year_month', y='total_sale', marker=\"o\")\n",
    "plt.title(\"Monthly Sales Trend\")\n",
    "plt.xlabel(\"Month\")\n",
    "plt.ylabel(\"Total Sales\")\n",
    "plt.xticks(rotation=45)\n",
    "plt.tight_layout()\n",
    "plt.show()"
   ]
  },
  {
   "cell_type": "markdown",
   "id": "74181926",
   "metadata": {},
   "source": [
    "### Sales by Age Group (Bar Chart)"
   ]
  },
  {
   "cell_type": "code",
   "execution_count": 14,
   "id": "cdf5043f",
   "metadata": {},
   "outputs": [
    {
     "name": "stderr",
     "output_type": "stream",
     "text": [
      "C:\\Users\\YOCHANA\\AppData\\Local\\Temp\\ipykernel_9136\\3206318600.py:4: FutureWarning: \n",
      "\n",
      "Passing `palette` without assigning `hue` is deprecated and will be removed in v0.14.0. Assign the `x` variable to `hue` and set `legend=False` for the same effect.\n",
      "\n",
      "  sns.barplot(data=age_sales, x='age_group', y='total_sale', palette=\"coolwarm\")\n"
     ]
    },
    {
     "data": {
      "image/png": "[encoded data removed]",
      "text/plain": [
       "<Figure size 700x400 with 1 Axes>"
      ]
     },
     "metadata": {},
     "output_type": "display_data"
    }
   ],
   "source": [
    "age_sales = df.groupby('age_group', observed=True)['total_sale'].sum().reset_index()\n",
    "\n",
    "plt.figure(figsize=(7,4))\n",
    "sns.barplot(data=age_sales, x='age_group', y='total_sale', palette=\"coolwarm\")\n",
    "plt.title(\"Sales by Age Group\")\n",
    "plt.xlabel(\"Age Group\")\n",
    "plt.ylabel(\"Total Sales\")\n",
    "plt.tight_layout()\n",
    "plt.show()"
   ]
  },
  {
   "cell_type": "markdown",
   "id": "1a57f2ee",
   "metadata": {},
   "source": [
    "### Orders by Shift (Pie Chart)"
   ]
  },
  {
   "cell_type": "code",
   "execution_count": 16,
   "id": "48c5d6b0",
   "metadata": {},
   "outputs": [
    {
     "data": {
      "image/png": "[encoded data removed]",
      "text/plain": [
       "<Figure size 500x500 with 1 Axes>"
      ]
     },
     "metadata": {},
     "output_type": "display_data"
    }
   ],
   "source": [
    "import seaborn as sns\n",
    "import matplotlib.pyplot as plt\n",
    "\n",
    "def determine_shift(t):\n",
    "    hour = t.hour\n",
    "    if hour <= 12:\n",
    "        return 'Morning'\n",
    "    elif 12 < hour <= 17:\n",
    "        return 'Afternoon'\n",
    "    else:\n",
    "        return 'Evening'\n",
    "\n",
    "df['shift'] = df['sale_time'].apply(determine_shift)\n",
    "\n",
    "shift_orders = df['shift'].value_counts()\n",
    "\n",
    "plt.figure(figsize=(5,5))\n",
    "plt.pie(\n",
    "    shift_orders.values,\n",
    "    labels=shift_orders.index,\n",
    "    autopct='%1.1f%%',\n",
    "    startangle=140,\n",
    "    colors=sns.color_palette(\"pastel\")\n",
    ")\n",
    "plt.title(\"Order Distribution by Shift\")\n",
    "plt.axis('equal')  \n",
    "plt.show()\n"
   ]
  }
 ],
 "metadata": {
  "kernelspec": {
   "display_name": "Python 3",
   "language": "python",
   "name": "python3"
  },
  "language_info": {
   "codemirror_mode": {
    "name": "ipython",
    "version": 3
   },
   "file_extension": ".py",
   "mimetype": "text/x-python",
   "name": "python",
   "nbconvert_exporter": "python",
   "pygments_lexer": "ipython3",
   "version": "3.13.3"
  }
 },
 "nbformat": 4,
 "nbformat_minor": 5
}
